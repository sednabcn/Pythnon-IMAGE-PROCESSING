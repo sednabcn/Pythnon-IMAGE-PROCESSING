{
  "nbformat": 4,
  "nbformat_minor": 0,
  "metadata": {
    "colab": {
      "name": "keras-mnist.ipynb",
      "provenance": [],
      "collapsed_sections": []
    },
    "kernelspec": {
      "name": "python3",
      "display_name": "Python 3"
    }
  },
  "cells": [
    {
      "cell_type": "markdown",
      "metadata": {
        "id": "UQVBnfVkSF8A",
        "colab_type": "text"
      },
      "source": [
        "# KERAS MNIST TO SUMMARY HANDRIGHT DIGITS"
      ]
    },
    {
      "cell_type": "code",
      "metadata": {
        "id": "o2Cjem7aRT-x",
        "colab_type": "code",
        "colab": {
          "base_uri": "https://localhost:8080/",
          "height": 33
        },
        "outputId": "84c3faa6-8152-461b-e7e0-aa8cd5c1dad7"
      },
      "source": [
        "from __future__ import print_function\n",
        "import numpy as np\n",
        "import matplotlib.pyplot as plt\n",
        "import numpy\n",
        "np.random.seed(1337)  # for reproducibility\n",
        "import keras\n",
        "from keras.datasets import mnist\n",
        "from keras.models import Sequential\n",
        "from keras.layers.core import Dense, Dropout, Activation\n",
        "from keras.optimizers import SGD, Adam, RMSprop\n",
        "from keras.utils import np_utils"
      ],
      "execution_count": 1,
      "outputs": [
        {
          "output_type": "stream",
          "text": [
            "Using TensorFlow backend.\n"
          ],
          "name": "stderr"
        }
      ]
    },
    {
      "cell_type": "code",
      "metadata": {
        "id": "5Jw9phO2fe5t",
        "colab_type": "code",
        "colab": {
          "base_uri": "https://localhost:8080/",
          "height": 310
        },
        "outputId": "5dab91a1-787d-469c-fbbd-77187839baba"
      },
      "source": [
        "dir(keras.datasets)"
      ],
      "execution_count": 2,
      "outputs": [
        {
          "output_type": "execute_result",
          "data": {
            "text/plain": [
              "['__builtins__',\n",
              " '__cached__',\n",
              " '__doc__',\n",
              " '__file__',\n",
              " '__loader__',\n",
              " '__name__',\n",
              " '__package__',\n",
              " '__path__',\n",
              " '__spec__',\n",
              " 'absolute_import',\n",
              " 'boston_housing',\n",
              " 'cifar',\n",
              " 'cifar10',\n",
              " 'cifar100',\n",
              " 'fashion_mnist',\n",
              " 'imdb',\n",
              " 'mnist',\n",
              " 'reuters']"
            ]
          },
          "metadata": {
            "tags": []
          },
          "execution_count": 2
        }
      ]
    },
    {
      "cell_type": "markdown",
      "metadata": {
        "id": "fgIJBvDGS28T",
        "colab_type": "text"
      },
      "source": [
        "DATASET MNIST OF IMAGES WITH 28X28 PIXELS"
      ]
    },
    {
      "cell_type": "code",
      "metadata": {
        "id": "ncMrmeo1SjZs",
        "colab_type": "code",
        "colab": {}
      },
      "source": [
        "(X_train, y_train), (X_test, y_test) = mnist.load_data()"
      ],
      "execution_count": 0,
      "outputs": []
    },
    {
      "cell_type": "code",
      "metadata": {
        "id": "GbKH_umMTA4B",
        "colab_type": "code",
        "colab": {
          "base_uri": "https://localhost:8080/",
          "height": 33
        },
        "outputId": "9c9fc333-d1ec-434f-a052-8296b1c19657"
      },
      "source": [
        "[len(X_train), len(y_train)]"
      ],
      "execution_count": 4,
      "outputs": [
        {
          "output_type": "execute_result",
          "data": {
            "text/plain": [
              "[60000, 60000]"
            ]
          },
          "metadata": {
            "tags": []
          },
          "execution_count": 4
        }
      ]
    },
    {
      "cell_type": "code",
      "metadata": {
        "id": "4Rtw0IZcTKmd",
        "colab_type": "code",
        "colab": {
          "base_uri": "https://localhost:8080/",
          "height": 33
        },
        "outputId": "65175c11-e9a6-4c51-dd4f-bc4eb751d321"
      },
      "source": [
        "[len(X_test), len(y_test)]"
      ],
      "execution_count": 5,
      "outputs": [
        {
          "output_type": "execute_result",
          "data": {
            "text/plain": [
              "[10000, 10000]"
            ]
          },
          "metadata": {
            "tags": []
          },
          "execution_count": 5
        }
      ]
    },
    {
      "cell_type": "markdown",
      "metadata": {
        "id": "NHxzBpPhTTPO",
        "colab_type": "text"
      },
      "source": [
        "RESHAPE EACH DATA IN A VECTOR OF 28*28=784 \n",
        "\n",
        "What is a pixel?\n",
        "\n",
        "A digital photo is not one non-dividable thing. If you zoom in far enough you’ll see that your image is like a mosaic formed by small tiles, which in photography are called pixels\n",
        "\n",
        "Pixel count\n",
        "\n",
        "The first kind of resolution refers to the pixel count which is the number of pixels that form your photo. In order to calculate this resolution you just use the same formula you would use for the area of any rectangle; multiply the length by the height. For example, if you have a photo that has 4,500 pixels on the horizontal side, and 3,000 on the vertical size it gives you a total of 13,500,000. Because this number is very unpractical to use, you can just divide it by a million to convert it into megapixels. So 13,500,000 / 1,000000 = 13.5 Megapixels.\n",
        "\n",
        "Pixel density\n",
        "\n",
        "The other kind of resolution is about how you distribute the total amount of pixels that you have, which is commonly referred as pixel density.\n",
        "\n",
        "Now, the resolution is expressed in dpi (or ppi), which is the acronym for dots (or pixels) per inch. So, if you see 72 dpi it means that the image will have 72 pixels per inch; if you see 300 dpi means 300 pixels per inch, and so on.\n",
        "\n",
        "The final size of your image depends on the resolution that you choose. If an image is 4500 x 3000 pixels it means that it will print at 15 x 10 inches if you set the resolution to 300 dpi, but it will be 62.5 x 41.6 inches at 72 dpi. While the size of your print does change, you are not resizing your photo (image file), you are just reorganizing the existing pixels.\n",
        "\n",
        "Imagine a rubber band, you can stretch it or shrink it but you’re not changing the composition of the band, you’re not adding or cutting any of the rubber.\n",
        "\n",
        "So quantity equals quality?\n",
        "\n",
        "Because of the aforementioned correlation between size and resolution, a lot of people think that megapixels equal quality. And in a sense it does because the more pixels you have to spread out, the higher the pixel density will be.\n",
        "\n",
        "However, on top of the quantity you should also consider the depth of the pixels, this is what determines the amount of tonal values that your image will have. In other words it is the number of colors per pixel. For example, a 2-bit depth can store only black, white and two shades of grey, but the more common value is 8-bit. The values grows exponentially so for example with an 8-bit photo (2 to the power of 8 = 256) you’ll have 256 tones of green, 256 tones of blue, and 256 tones of red, which means about 16 million colors.\n",
        "\n",
        "This is already more that the eye can distinguish which means that 16-bit or 32-bit will look relatively similar to us. Of course, this means that your image will be heavier even of the size is the same, because there is more information contained in each pixel. This is also why quality and quantity are not necessarily the same.\n",
        "\n",
        "Therefore quantity helps, but also the size and depth of each pixel determine the quality. This is why you should look all the specs of the camera and its sensor and not just the amount of Megapixels. After all, there’s a limit to the size you can print or view your image, more than that it will only result in extra file size (megabytes) and no impact in the image size (megapixels) or the quality.\n",
        "\n",
        "How to choose and control image size and file size?\n",
        "\n",
        "First of all, you need to choose the outlet for your photo, there is a maximum density that you need. If you are going to post your image online you can do great with only 72 dpi, but that is too little for printing a photo. If you are going to print it you need between 300 and 350 dpi.\n",
        "\n",
        "Of course, we are talking about generalizations because each monitor and each printer will have slightly different resolutions as well. For example, if you want to print your photo to 8×10 inches you need your image to have 300dpi x 8″ = 2400 pixels by 300dpi x 10″ = 3000 pixels (so 2400×3000 to print an 8×10 at 300dpi). Anything bigger than that will only be taking up space on your hard drive.\n",
        "\n",
        "How to resize in Photoshop\n",
        "\n",
        "Open the menu for the image size and in the popup window, you need to tick the Resample Image box. If you don’t activate “resample” you will only be redistributing the pixels like I explained at the beginning of the article.\n",
        "\n",
        "You can also choose to tick the Constrain Proportion if you want the measure to adjust according to the changes you make. So the width adjusts when you change the height and vice versa.\n"
      ]
    },
    {
      "cell_type": "code",
      "metadata": {
        "id": "KKT77IQpWCr4",
        "colab_type": "code",
        "colab": {}
      },
      "source": [
        "X_train = X_train.reshape(60000, 784)\n",
        "X_test = X_test.reshape(10000, 784)\n",
        "X_train = X_train.astype('float32')\n",
        "X_test = X_test.astype('float32')"
      ],
      "execution_count": 0,
      "outputs": []
    },
    {
      "cell_type": "markdown",
      "metadata": {
        "id": "8BS9-lamZyyp",
        "colab_type": "text"
      },
      "source": [
        "NORMALIZE POR 2^8=256 "
      ]
    },
    {
      "cell_type": "code",
      "metadata": {
        "id": "bUEiI00uZwIX",
        "colab_type": "code",
        "colab": {
          "base_uri": "https://localhost:8080/",
          "height": 50
        },
        "outputId": "fd558a6d-9d03-4d16-bd60-b17c5cd7bb4c"
      },
      "source": [
        "X_train /= 255\n",
        "X_test /= 255\n",
        "print(X_train.shape[0], 'train samples')\n",
        "print(X_test.shape[0], 'test samples')\n"
      ],
      "execution_count": 7,
      "outputs": [
        {
          "output_type": "stream",
          "text": [
            "60000 train samples\n",
            "10000 test samples\n"
          ],
          "name": "stdout"
        }
      ]
    },
    {
      "cell_type": "markdown",
      "metadata": {
        "id": "-SiruuciaK7b",
        "colab_type": "text"
      },
      "source": [
        "LABELS FROM CATEGORICAL TO NUMERICAL VALUES"
      ]
    },
    {
      "cell_type": "code",
      "metadata": {
        "id": "2PXGyGbFaCda",
        "colab_type": "code",
        "colab": {}
      },
      "source": [
        "# convert class vectors to binary class matrices\n",
        "nb_classes=10\n",
        "Y_train = np_utils.to_categorical(y_train, nb_classes)\n",
        "Y_test = np_utils.to_categorical(y_test, nb_classes)\n"
      ],
      "execution_count": 0,
      "outputs": []
    },
    {
      "cell_type": "code",
      "metadata": {
        "id": "-qf1De7EcEPA",
        "colab_type": "code",
        "colab": {}
      },
      "source": [
        "#MODEL ARCHITECTURE\n",
        "nhidden=128\n",
        "dropout=0.25\n",
        "lr =0.0002"
      ],
      "execution_count": 0,
      "outputs": []
    },
    {
      "cell_type": "markdown",
      "metadata": {
        "id": "JuD1KD8JbB2e",
        "colab_type": "text"
      },
      "source": [
        "MODEL"
      ]
    },
    {
      "cell_type": "code",
      "metadata": {
        "id": "JMxeZ9PIbGCc",
        "colab_type": "code",
        "colab": {}
      },
      "source": [
        "model = Sequential()\n",
        "model.add(Dense(nhidden, input_shape=(784,), activation='relu'))\n",
        "model.add(Dropout(dropout))\n",
        "model.add(Dense(nhidden, activation='relu'))\n",
        "model.add(Dropout(dropout))\n",
        "model.add(Dense(nb_classes,activation='softmax'))\n"
      ],
      "execution_count": 0,
      "outputs": []
    },
    {
      "cell_type": "code",
      "metadata": {
        "id": "XwdKd8_FcsTA",
        "colab_type": "code",
        "colab": {
          "base_uri": "https://localhost:8080/",
          "height": 310
        },
        "outputId": "fd1485c7-45bf-470f-f944-93663610d0b3"
      },
      "source": [
        "model.summary()"
      ],
      "execution_count": 11,
      "outputs": [
        {
          "output_type": "stream",
          "text": [
            "Model: \"sequential_1\"\n",
            "_________________________________________________________________\n",
            "Layer (type)                 Output Shape              Param #   \n",
            "=================================================================\n",
            "dense_1 (Dense)              (None, 128)               100480    \n",
            "_________________________________________________________________\n",
            "dropout_1 (Dropout)          (None, 128)               0         \n",
            "_________________________________________________________________\n",
            "dense_2 (Dense)              (None, 128)               16512     \n",
            "_________________________________________________________________\n",
            "dropout_2 (Dropout)          (None, 128)               0         \n",
            "_________________________________________________________________\n",
            "dense_3 (Dense)              (None, 10)                1290      \n",
            "=================================================================\n",
            "Total params: 118,282\n",
            "Trainable params: 118,282\n",
            "Non-trainable params: 0\n",
            "_________________________________________________________________\n"
          ],
          "name": "stdout"
        }
      ]
    },
    {
      "cell_type": "markdown",
      "metadata": {
        "id": "ZoGfwx16cuYw",
        "colab_type": "text"
      },
      "source": [
        "Loss Function"
      ]
    },
    {
      "cell_type": "code",
      "metadata": {
        "id": "jmwp0yqscynn",
        "colab_type": "code",
        "colab": {}
      },
      "source": [
        "model.compile(loss='categorical_crossentropy',\n",
        "              optimizer=Adam(lr),\n",
        "              metrics=['accuracy'])\n"
      ],
      "execution_count": 0,
      "outputs": []
    },
    {
      "cell_type": "markdown",
      "metadata": {
        "id": "AXT1DFwFdfu4",
        "colab_type": "text"
      },
      "source": [
        "TRAINING"
      ]
    },
    {
      "cell_type": "code",
      "metadata": {
        "id": "s52-MXkadeY1",
        "colab_type": "code",
        "colab": {}
      },
      "source": [
        "epochs = 20\n",
        "BATCH_SIZE = 128"
      ],
      "execution_count": 0,
      "outputs": []
    },
    {
      "cell_type": "code",
      "metadata": {
        "id": "ENp2arJ7dinM",
        "colab_type": "code",
        "colab": {
          "base_uri": "https://localhost:8080/",
          "height": 716
        },
        "outputId": "777da806-3df4-4acd-bcff-9c15e612eadc"
      },
      "source": [
        "history = model.fit(X_train, Y_train, batch_size=BATCH_SIZE, nb_epoch=epochs,verbose=1, validation_split=0.2)"
      ],
      "execution_count": 14,
      "outputs": [
        {
          "output_type": "stream",
          "text": [
            "/usr/local/lib/python3.6/dist-packages/ipykernel_launcher.py:1: UserWarning: The `nb_epoch` argument in `fit` has been renamed `epochs`.\n",
            "  \"\"\"Entry point for launching an IPython kernel.\n"
          ],
          "name": "stderr"
        },
        {
          "output_type": "stream",
          "text": [
            "Train on 48000 samples, validate on 12000 samples\n",
            "Epoch 1/20\n",
            "48000/48000 [==============================] - 2s 38us/step - loss: 0.9276 - accuracy: 0.7208 - val_loss: 0.3299 - val_accuracy: 0.9118\n",
            "Epoch 2/20\n",
            "48000/48000 [==============================] - 2s 36us/step - loss: 0.3956 - accuracy: 0.8839 - val_loss: 0.2404 - val_accuracy: 0.9333\n",
            "Epoch 3/20\n",
            "48000/48000 [==============================] - 2s 36us/step - loss: 0.3086 - accuracy: 0.9103 - val_loss: 0.2001 - val_accuracy: 0.9435\n",
            "Epoch 4/20\n",
            "48000/48000 [==============================] - 2s 36us/step - loss: 0.2603 - accuracy: 0.9242 - val_loss: 0.1758 - val_accuracy: 0.9505\n",
            "Epoch 5/20\n",
            "48000/48000 [==============================] - 2s 36us/step - loss: 0.2295 - accuracy: 0.9333 - val_loss: 0.1572 - val_accuracy: 0.9550\n",
            "Epoch 6/20\n",
            "48000/48000 [==============================] - 2s 36us/step - loss: 0.2068 - accuracy: 0.9394 - val_loss: 0.1446 - val_accuracy: 0.9584\n",
            "Epoch 7/20\n",
            "48000/48000 [==============================] - 2s 38us/step - loss: 0.1862 - accuracy: 0.9456 - val_loss: 0.1339 - val_accuracy: 0.9606\n",
            "Epoch 8/20\n",
            "48000/48000 [==============================] - 2s 36us/step - loss: 0.1689 - accuracy: 0.9498 - val_loss: 0.1247 - val_accuracy: 0.9639\n",
            "Epoch 9/20\n",
            "48000/48000 [==============================] - 2s 37us/step - loss: 0.1603 - accuracy: 0.9519 - val_loss: 0.1196 - val_accuracy: 0.9644\n",
            "Epoch 10/20\n",
            "48000/48000 [==============================] - 2s 36us/step - loss: 0.1494 - accuracy: 0.9552 - val_loss: 0.1131 - val_accuracy: 0.9672\n",
            "Epoch 11/20\n",
            "48000/48000 [==============================] - 2s 35us/step - loss: 0.1395 - accuracy: 0.9581 - val_loss: 0.1083 - val_accuracy: 0.9682\n",
            "Epoch 12/20\n",
            "48000/48000 [==============================] - 2s 36us/step - loss: 0.1313 - accuracy: 0.9601 - val_loss: 0.1057 - val_accuracy: 0.9683\n",
            "Epoch 13/20\n",
            "48000/48000 [==============================] - 2s 35us/step - loss: 0.1239 - accuracy: 0.9630 - val_loss: 0.1023 - val_accuracy: 0.9693\n",
            "Epoch 14/20\n",
            "48000/48000 [==============================] - 2s 35us/step - loss: 0.1150 - accuracy: 0.9654 - val_loss: 0.0982 - val_accuracy: 0.9701\n",
            "Epoch 15/20\n",
            "48000/48000 [==============================] - 2s 35us/step - loss: 0.1121 - accuracy: 0.9661 - val_loss: 0.0952 - val_accuracy: 0.9722\n",
            "Epoch 16/20\n",
            "48000/48000 [==============================] - 2s 35us/step - loss: 0.1072 - accuracy: 0.9676 - val_loss: 0.0924 - val_accuracy: 0.9719\n",
            "Epoch 17/20\n",
            "48000/48000 [==============================] - 2s 35us/step - loss: 0.0995 - accuracy: 0.9691 - val_loss: 0.0910 - val_accuracy: 0.9726\n",
            "Epoch 18/20\n",
            "48000/48000 [==============================] - 2s 36us/step - loss: 0.0969 - accuracy: 0.9695 - val_loss: 0.0885 - val_accuracy: 0.9737\n",
            "Epoch 19/20\n",
            "48000/48000 [==============================] - 2s 35us/step - loss: 0.0930 - accuracy: 0.9707 - val_loss: 0.0892 - val_accuracy: 0.9733\n",
            "Epoch 20/20\n",
            "48000/48000 [==============================] - 2s 35us/step - loss: 0.0870 - accuracy: 0.9732 - val_loss: 0.0866 - val_accuracy: 0.9735\n"
          ],
          "name": "stdout"
        }
      ]
    },
    {
      "cell_type": "code",
      "metadata": {
        "id": "OYqWxRNUes9o",
        "colab_type": "code",
        "colab": {
          "base_uri": "https://localhost:8080/",
          "height": 33
        },
        "outputId": "9cb82021-57b7-4932-bf37-fb482106594b"
      },
      "source": [
        "# list all data in history\n",
        "print(history.history.keys())"
      ],
      "execution_count": 15,
      "outputs": [
        {
          "output_type": "stream",
          "text": [
            "dict_keys(['val_loss', 'val_accuracy', 'loss', 'accuracy'])\n"
          ],
          "name": "stdout"
        }
      ]
    },
    {
      "cell_type": "code",
      "metadata": {
        "id": "C3i-y0mQe7RQ",
        "colab_type": "code",
        "colab": {
          "base_uri": "https://localhost:8080/",
          "height": 295
        },
        "outputId": "01379363-8f76-4a4e-ca71-551718d4f33d"
      },
      "source": [
        "# summarize history for accuracy\n",
        "plt.plot(history.history['accuracy'])\n",
        "plt.plot(history.history['val_accuracy'])\n",
        "plt.title('model accuracy')\n",
        "plt.ylabel('accuracy')\n",
        "plt.xlabel('epoch')\n",
        "plt.legend(['train', 'test'], loc='lower right')\n",
        "plt.grid(True)\n",
        "plt.show()"
      ],
      "execution_count": 16,
      "outputs": [
        {
          "output_type": "display_data",
          "data": {
            "image/png": "[encoded data removed]",
            "text/plain": [
              "<Figure size 432x288 with 1 Axes>"
            ]
          },
          "metadata": {
            "tags": [],
            "needs_background": "light"
          }
        }
      ]
    },
    {
      "cell_type": "code",
      "metadata": {
        "id": "FCh3F6yifAOq",
        "colab_type": "code",
        "colab": {
          "base_uri": "https://localhost:8080/",
          "height": 295
        },
        "outputId": "1ae09ad4-c5da-449f-aa9b-8f5efa0aa69b"
      },
      "source": [
        "# summarize history for loss\n",
        "plt.plot(history.history['loss'])\n",
        "plt.plot(history.history['val_loss'])\n",
        "plt.title('model loss History')\n",
        "plt.ylabel('loss')\n",
        "plt.xlabel('epoch')\n",
        "plt.legend(['train', 'test'], loc='upper right')\n",
        "plt.show()"
      ],
      "execution_count": 17,
      "outputs": [
        {
          "output_type": "display_data",
          "data": {
            "image/png": "[encoded data removed]",
            "text/plain": [
              "<Figure size 432x288 with 1 Axes>"
            ]
          },
          "metadata": {
            "tags": [],
            "needs_background": "light"
          }
        }
      ]
    },
    {
      "cell_type": "markdown",
      "metadata": {
        "id": "iSlOvt-3fW5T",
        "colab_type": "text"
      },
      "source": [
        "MODEL EVALUATION\n",
        "\n",
        "Scaled score from 1-7 is described as a weakness or below average with a corresponding percentile rank of 1-16. Scaled score from 8-12 is described as average with a corresponding percentile rank of 25-75\n",
        "\n",
        "If a candidate scores in the 90th percentile, they have scored higher than 90% of the norm group, putting them in the top 10%. If a candidate scores in the 10th percentile, they have scored higher than 10% of the norm group, putting them in the bottom 10%. ... \n",
        "\n",
        "This is what a percentile score does for us."
      ]
    },
    {
      "cell_type": "code",
      "metadata": {
        "id": "4DzYY7VOfV-j",
        "colab_type": "code",
        "colab": {
          "base_uri": "https://localhost:8080/",
          "height": 66
        },
        "outputId": "cf4d67e6-16a2-434f-deee-8a19db845f79"
      },
      "source": [
        "score = model.evaluate(X_test, Y_test, verbose=1)\n",
        "print('Test score:', score[0]*100)\n",
        "print('Test accuracy:', score[1]*100)"
      ],
      "execution_count": 18,
      "outputs": [
        {
          "output_type": "stream",
          "text": [
            "10000/10000 [==============================] - 0s 24us/step\n",
            "Test score: 8.220066705811767\n",
            "Test accuracy: 97.49000072479248\n"
          ],
          "name": "stdout"
        }
      ]
    },
    {
      "cell_type": "markdown",
      "metadata": {
        "id": "iwaaMdTQiacg",
        "colab_type": "text"
      },
      "source": [
        "MODEL PREDICTION"
      ]
    },
    {
      "cell_type": "code",
      "metadata": {
        "id": "LJwoiBYkiZac",
        "colab_type": "code",
        "colab": {}
      },
      "source": [
        "pred = model.predict_classes(X_test,batch_size=BATCH_SIZE)"
      ],
      "execution_count": 0,
      "outputs": []
    },
    {
      "cell_type": "code",
      "metadata": {
        "id": "WfVWECAQitZL",
        "colab_type": "code",
        "colab": {
          "base_uri": "https://localhost:8080/",
          "height": 265
        },
        "outputId": "bbc0947c-1b7c-462c-a110-2ab1dcb9df73"
      },
      "source": [
        "ytest=[np.argmax(Y_test[i,:]) for i in range(10000)]\n",
        "ydiff=ytest-pred\n",
        "\n",
        "plt.plot(ydiff,'or')\n",
        "plt.show()"
      ],
      "execution_count": 20,
      "outputs": [
        {
          "output_type": "display_data",
          "data": {
            "image/png": "[encoded data removed]",
            "text/plain": [
              "<Figure size 432x288 with 1 Axes>"
            ]
          },
          "metadata": {
            "tags": [],
            "needs_background": "light"
          }
        }
      ]
    },
    {
      "cell_type": "code",
      "metadata": {
        "id": "WCgppEq-paSb",
        "colab_type": "code",
        "colab": {
          "base_uri": "https://localhost:8080/",
          "height": 33
        },
        "outputId": "1de493ef-1fe9-477b-876c-67ecfab09eab"
      },
      "source": [
        "sum(np.sign(np.abs(ydiff)))"
      ],
      "execution_count": 21,
      "outputs": [
        {
          "output_type": "execute_result",
          "data": {
            "text/plain": [
              "251"
            ]
          },
          "metadata": {
            "tags": []
          },
          "execution_count": 21
        }
      ]
    }
  ]
}