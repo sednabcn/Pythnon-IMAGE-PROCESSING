{
 "cells": [
  {
   "cell_type": "markdown",
   "metadata": {
    "colab_type": "text",
    "id": "fG1Pfr5yuBo2"
   },
   "source": [
    "CONVNET FOR CIFAR 10 TO RECOGNIZE IMAGES "
   ]
  },
  {
   "cell_type": "code",
   "execution_count": 1,
   "metadata": {
    "colab": {},
    "colab_type": "code",
    "id": "wUgSUXLcUe0D"
   },
   "outputs": [
    {
     "name": "stderr",
     "output_type": "stream",
     "text": [
      "Using TensorFlow backend.\n"
     ]
    }
   ],
   "source": [
    "from __future__ import absolute_import\n",
    "import os\n",
    "import shutil\n",
    "import random\n",
    "import numpy as np\n",
    "import keras \n",
    "from keras.layers import *\n",
    "from keras.callbacks import EarlyStopping"
   ]
  },
  {
   "cell_type": "code",
   "execution_count": 2,
   "metadata": {
    "colab": {},
    "colab_type": "code",
    "id": "BY6TVvax5jGz"
   },
   "outputs": [
    {
     "name": "stdout",
     "output_type": "stream",
     "text": [
      "Requirement already satisfied: tensorflow==1.15 in /opt/conda/envs/Python36/lib/python3.6/site-packages (1.15.0)\n",
      "Requirement already satisfied: numpy<2.0,>=1.16.0 in /opt/conda/envs/Python36/lib/python3.6/site-packages (from tensorflow==1.15) (1.18.4)\n",
      "Requirement already satisfied: protobuf>=3.6.1 in /opt/conda/envs/Python36/lib/python3.6/site-packages (from tensorflow==1.15) (3.6.1)\n",
      "Requirement already satisfied: tensorflow-estimator==1.15.1 in /opt/conda/envs/Python36/lib/python3.6/site-packages (from tensorflow==1.15) (1.15.1)\n",
      "Requirement already satisfied: google-pasta>=0.1.6 in /opt/conda/envs/Python36/lib/python3.6/site-packages (from tensorflow==1.15) (0.2.0)\n",
      "Requirement already satisfied: termcolor>=1.1.0 in /opt/conda/envs/Python36/lib/python3.6/site-packages (from tensorflow==1.15) (1.1.0)\n",
      "Requirement already satisfied: gast==0.2.2 in /opt/conda/envs/Python36/lib/python3.6/site-packages (from tensorflow==1.15) (0.2.2)\n",
      "Requirement already satisfied: wheel>=0.26 in /opt/conda/envs/Python36/lib/python3.6/site-packages (from tensorflow==1.15) (0.32.3)\n",
      "Requirement already satisfied: six>=1.10.0 in /opt/conda/envs/Python36/lib/python3.6/site-packages (from tensorflow==1.15) (1.12.0)\n",
      "Requirement already satisfied: absl-py>=0.7.0 in /opt/conda/envs/Python36/lib/python3.6/site-packages (from tensorflow==1.15) (0.7.0)\n",
      "Requirement already satisfied: keras-applications>=1.0.8 in /opt/conda/envs/Python36/lib/python3.6/site-packages (from tensorflow==1.15) (1.0.8)\n",
      "Requirement already satisfied: opt-einsum>=2.3.2 in /opt/conda/envs/Python36/lib/python3.6/site-packages (from tensorflow==1.15) (3.2.1)\n",
      "Requirement already satisfied: grpcio>=1.8.6 in /opt/conda/envs/Python36/lib/python3.6/site-packages (from tensorflow==1.15) (1.16.1)\n",
      "Requirement already satisfied: astor>=0.6.0 in /opt/conda/envs/Python36/lib/python3.6/site-packages (from tensorflow==1.15) (0.7.1)\n",
      "Requirement already satisfied: keras-preprocessing>=1.0.5 in /opt/conda/envs/Python36/lib/python3.6/site-packages (from tensorflow==1.15) (1.0.5)\n",
      "Requirement already satisfied: tensorboard<1.16.0,>=1.15.0 in /opt/conda/envs/Python36/lib/python3.6/site-packages (from tensorflow==1.15) (1.15.0)\n",
      "Requirement already satisfied: wrapt>=1.11.1 in /opt/conda/envs/Python36/lib/python3.6/site-packages (from tensorflow==1.15) (1.11.1)\n",
      "Requirement already satisfied: setuptools in /opt/conda/envs/Python36/lib/python3.6/site-packages (from protobuf>=3.6.1->tensorflow==1.15) (46.4.0)\n",
      "Requirement already satisfied: h5py in /opt/conda/envs/Python36/lib/python3.6/site-packages (from keras-applications>=1.0.8->tensorflow==1.15) (2.9.0)\n",
      "Requirement already satisfied: werkzeug>=0.11.15 in /opt/conda/envs/Python36/lib/python3.6/site-packages (from tensorboard<1.16.0,>=1.15.0->tensorflow==1.15) (0.14.1)\n",
      "Requirement already satisfied: markdown>=2.6.8 in /opt/conda/envs/Python36/lib/python3.6/site-packages (from tensorboard<1.16.0,>=1.15.0->tensorflow==1.15) (3.0.1)\n"
     ]
    }
   ],
   "source": [
    "#tensorflow 2.2.0-rc2\n",
    "#!pip install tensorflow==2.2.0-rc2\n",
    "!pip install tensorflow==1.15\n"
   ]
  },
  {
   "cell_type": "code",
   "execution_count": 3,
   "metadata": {
    "colab": {},
    "colab_type": "code",
    "id": "Ag1c1OVD4YWo"
   },
   "outputs": [],
   "source": [
    "import tensorflow as tf"
   ]
  },
  {
   "cell_type": "code",
   "execution_count": 4,
   "metadata": {
    "colab": {},
    "colab_type": "code",
    "id": "Ak56RvIctr_S"
   },
   "outputs": [],
   "source": [
    "from keras import backend as K\n",
    "from keras.models import Sequential\n",
    "from keras.layers import Lambda, Layer, InputLayer\n",
    "from keras.layers.convolutional import Conv2D\n",
    "from keras.layers.convolutional import MaxPooling2D\n",
    "from keras.layers.core import Activation\n",
    "from keras.layers.core import Flatten\n",
    "from keras.layers.core import Dense\n",
    "from keras.datasets import cifar10 \n",
    "from keras.utils import np_utils\n",
    "from keras.constraints import maxnorm\n",
    "from keras.optimizers import SGD\n",
    "from keras.layers.core import Reshape\n",
    "from keras.optimizers import SGD, RMSprop, Adam, Adadelta\n",
    "from keras.layers.advanced_activations import LeakyReLU\n",
    "from keras.preprocessing.image import ImageDataGenerator, array_to_img\n",
    "import numpy as np\n",
    "import matplotlib.pyplot as plt"
   ]
  },
  {
   "cell_type": "code",
   "execution_count": 5,
   "metadata": {
    "colab": {},
    "colab_type": "code",
    "id": "ybcChciJ64a9"
   },
   "outputs": [],
   "source": [
    "K.common.set_image_dim_ordering('tf')"
   ]
  },
  {
   "cell_type": "code",
   "execution_count": 6,
   "metadata": {
    "colab": {},
    "colab_type": "code",
    "id": "Bu1AolA69BSJ"
   },
   "outputs": [],
   "source": [
    "from keras.applications.vgg16 import VGG16"
   ]
  },
  {
   "cell_type": "code",
   "execution_count": 7,
   "metadata": {},
   "outputs": [],
   "source": [
    "def reset_weights(model):\n",
    "    for layer in model.layers:\n",
    "        if isinstance(layer, tf.keras.Model): #if you're using a model as a layer\n",
    "            reset_weights(layer) #apply function recursively\n",
    "            continue\n",
    "\n",
    "        #where are the initializers?\n",
    "        if hasattr(layer, 'cell'):\n",
    "            init_container = layer.cell\n",
    "        else:\n",
    "            init_container = layer\n",
    "\n",
    "        for key, initializer in init_container.__dict__.items():\n",
    "            if \"initializer\" not in key: #is this item an initializer?\n",
    "                  continue #if no, skip it\n",
    "\n",
    "            # find the corresponding variable, like the kernel or the bias\n",
    "            if key == 'recurrent_initializer': #special case check\n",
    "                var = getattr(init_container, 'recurrent_kernel')\n",
    "            else:\n",
    "                var = getattr(init_container, key.replace(\"_initializer\", \"\"))\n",
    "\n",
    "            var.assign(initializer(var.shape, var.dtype))\n",
    "            #use the initializer"
   ]
  },
  {
   "cell_type": "markdown",
   "metadata": {
    "colab_type": "text",
    "id": "9sT0omWd4bH8"
   },
   "source": [
    "LABELS FROM CATEGORICAL TO NUMERICAL VALUES"
   ]
  },
  {
   "cell_type": "code",
   "execution_count": 8,
   "metadata": {
    "colab": {},
    "colab_type": "code",
    "id": "z_Igw-8w4bIC"
   },
   "outputs": [],
   "source": [
    "nb_classes=10\n",
    "class_names=['airplane','automobile','bird','cat','deer','dog','frog','horse','chip','truck']"
   ]
  },
  {
   "cell_type": "markdown",
   "metadata": {
    "colab_type": "text",
    "id": "dHw370DyuikC"
   },
   "source": [
    "MODEL"
   ]
  },
  {
   "cell_type": "markdown",
   "metadata": {
    "colab_type": "text",
    "id": "fgIJBvDGS28T"
   },
   "source": [
    "DATASET CIFAR_10 is a set of 60K images 32x32 pixels on 3 channels"
   ]
  },
  {
   "cell_type": "code",
   "execution_count": 9,
   "metadata": {
    "colab": {},
    "colab_type": "code",
    "id": "-qf1De7EcEPA"
   },
   "outputs": [],
   "source": [
    "#MODEL ARCHITECTURE\n",
    "lr =0.0005\n",
    "\n",
    "# we need a 60K x [32*32*3] shape as input to the CONVNET\n",
    "\n",
    "input_shape=(32,32,3)\n"
   ]
  },
  {
   "cell_type": "code",
   "execution_count": 10,
   "metadata": {
    "colab": {},
    "colab_type": "code",
    "id": "kHID6Athy5N7"
   },
   "outputs": [],
   "source": [
    "class VGG16L:\n",
    "    @staticmethod \n",
    "    def build(input_shape,classes,lr=None):\n",
    "              # load the VGG model\n",
    "              vgg_conv =VGG16(weights='imagenet',include_top=False, input_shape = input_shape)\n",
    "              # freeze the layers except the last 4 layers\n",
    "              for layer in vgg_conv.layers[:-4]:\n",
    "                       layer.trainable = False\n",
    "\n",
    "              # Check the trainable status of the individual layers\n",
    "              for layer in vgg_conv.layers:\n",
    "                        print(layer, layer.trainable)\n",
    "              # create the model\n",
    "              model = Sequential()\n",
    "              # add the vgg convolutional base model\n",
    "              model.add(vgg_conv)\n",
    "              # add new layers\n",
    "              model.add(Flatten())\n",
    "              model.add(Dense(512, activation='relu'))\n",
    "              model.add(Dropout(0.5))\n",
    "              model.add(Dense(classes, activation='softmax'))\n",
    "              model.compile(loss='categorical_crossentropy',optimizer=Adam(lr),metrics=['accuracy'])\n",
    "              return model"
   ]
  },
  {
   "cell_type": "code",
   "execution_count": 11,
   "metadata": {
    "colab": {},
    "colab_type": "code",
    "id": "Im4ULsn3CeoH"
   },
   "outputs": [],
   "source": [
    "class CONVNET23:\n",
    "    @staticmethod \n",
    "    def build(input_shape,classes,lr=None):\n",
    "             model = Sequential()\n",
    "             model.add(Conv2D(16, (3, 3), padding='same',input_shape=input_shape, activation='relu'))\n",
    "             model.add(Conv2D(16, (3, 3), padding='same',activation='relu'))\n",
    "             model.add(MaxPooling2D(pool_size=(2, 2)))\n",
    "             model.add(Dropout(0.25))\n",
    "             model.add(Conv2D(32, (3, 3), padding='same',activation='relu'))\n",
    "             model.add(Conv2D(32, (3, 3),activation='relu'))\n",
    "             model.add(MaxPooling2D(pool_size=(2, 2)))\n",
    "             model.add(Dropout(0.25))\n",
    "             model.add(Conv2D(64, (3, 3), padding='same',activation='relu'))\n",
    "             model.add(Conv2D(64, (3, 3),activation='relu'))\n",
    "             model.add(MaxPooling2D(pool_size=(2, 2)))\n",
    "             model.add(Dropout(0.25))\n",
    "             model.add(Flatten())\n",
    "             model.add(Dense(512,activation='relu'))\n",
    "             model.add(Dropout(0.5))\n",
    "             model.add(Dense(classes))\n",
    "             model.add(Activation('softmax'))\n",
    "             model.compile(loss='categorical_crossentropy',optimizer=Adam(lr),metrics=['accuracy'])\n",
    "             return model"
   ]
  },
  {
   "cell_type": "markdown",
   "metadata": {
    "colab_type": "text",
    "id": "JuD1KD8JbB2e"
   },
   "source": [
    "MODEL"
   ]
  },
  {
   "cell_type": "code",
   "execution_count": 12,
   "metadata": {
    "colab": {},
    "colab_type": "code",
    "id": "TqNk8frr1glX"
   },
   "outputs": [],
   "source": [
    "#model =VGG16L.build(input_shape,nb_classes,lr=lr)"
   ]
  },
  {
   "cell_type": "code",
   "execution_count": 13,
   "metadata": {},
   "outputs": [
    {
     "name": "stderr",
     "output_type": "stream",
     "text": [
      "WARNING: Logging before flag parsing goes to stderr.\n",
      "W0528 17:14:36.331119 140482065770304 module_wrapper.py:139] From /opt/conda/envs/Python36/lib/python3.6/site-packages/keras/backend/tensorflow_backend.py:74: The name tf.get_default_graph is deprecated. Please use tf.compat.v1.get_default_graph instead.\n",
      "\n",
      "W0528 17:14:36.342551 140482065770304 module_wrapper.py:139] From /opt/conda/envs/Python36/lib/python3.6/site-packages/keras/backend/tensorflow_backend.py:517: The name tf.placeholder is deprecated. Please use tf.compat.v1.placeholder instead.\n",
      "\n",
      "W0528 17:14:36.346694 140482065770304 module_wrapper.py:139] From /opt/conda/envs/Python36/lib/python3.6/site-packages/keras/backend/tensorflow_backend.py:4138: The name tf.random_uniform is deprecated. Please use tf.random.uniform instead.\n",
      "\n",
      "W0528 17:14:36.384173 140482065770304 module_wrapper.py:139] From /opt/conda/envs/Python36/lib/python3.6/site-packages/keras/backend/tensorflow_backend.py:3976: The name tf.nn.max_pool is deprecated. Please use tf.nn.max_pool2d instead.\n",
      "\n",
      "W0528 17:14:36.387521 140482065770304 module_wrapper.py:139] From /opt/conda/envs/Python36/lib/python3.6/site-packages/keras/backend/tensorflow_backend.py:133: The name tf.placeholder_with_default is deprecated. Please use tf.compat.v1.placeholder_with_default instead.\n",
      "\n",
      "W0528 17:14:36.400038 140482065770304 deprecation.py:506] From /opt/conda/envs/Python36/lib/python3.6/site-packages/keras/backend/tensorflow_backend.py:3445: calling dropout (from tensorflow.python.ops.nn_ops) with keep_prob is deprecated and will be removed in a future version.\n",
      "Instructions for updating:\n",
      "Please use `rate` instead of `keep_prob`. Rate should be set to `rate = 1 - keep_prob`.\n",
      "W0528 17:14:36.604382 140482065770304 module_wrapper.py:139] From /opt/conda/envs/Python36/lib/python3.6/site-packages/keras/optimizers.py:790: The name tf.train.Optimizer is deprecated. Please use tf.compat.v1.train.Optimizer instead.\n",
      "\n",
      "W0528 17:14:36.614329 140482065770304 module_wrapper.py:139] From /opt/conda/envs/Python36/lib/python3.6/site-packages/keras/backend/tensorflow_backend.py:3295: The name tf.log is deprecated. Please use tf.math.log instead.\n",
      "\n"
     ]
    }
   ],
   "source": [
    "model =CONVNET23.build(input_shape,nb_classes,lr=lr)"
   ]
  },
  {
   "cell_type": "code",
   "execution_count": 14,
   "metadata": {
    "colab": {},
    "colab_type": "code",
    "id": "9DZCBBiUlFUJ"
   },
   "outputs": [
    {
     "name": "stdout",
     "output_type": "stream",
     "text": [
      "_________________________________________________________________\n",
      "Layer (type)                 Output Shape              Param #   \n",
      "=================================================================\n",
      "conv2d_1 (Conv2D)            (None, 32, 32, 16)        448       \n",
      "_________________________________________________________________\n",
      "conv2d_2 (Conv2D)            (None, 32, 32, 16)        2320      \n",
      "_________________________________________________________________\n",
      "max_pooling2d_1 (MaxPooling2 (None, 16, 16, 16)        0         \n",
      "_________________________________________________________________\n",
      "dropout_1 (Dropout)          (None, 16, 16, 16)        0         \n",
      "_________________________________________________________________\n",
      "conv2d_3 (Conv2D)            (None, 16, 16, 32)        4640      \n",
      "_________________________________________________________________\n",
      "conv2d_4 (Conv2D)            (None, 14, 14, 32)        9248      \n",
      "_________________________________________________________________\n",
      "max_pooling2d_2 (MaxPooling2 (None, 7, 7, 32)          0         \n",
      "_________________________________________________________________\n",
      "dropout_2 (Dropout)          (None, 7, 7, 32)          0         \n",
      "_________________________________________________________________\n",
      "conv2d_5 (Conv2D)            (None, 7, 7, 64)          18496     \n",
      "_________________________________________________________________\n",
      "conv2d_6 (Conv2D)            (None, 5, 5, 64)          36928     \n",
      "_________________________________________________________________\n",
      "max_pooling2d_3 (MaxPooling2 (None, 2, 2, 64)          0         \n",
      "_________________________________________________________________\n",
      "dropout_3 (Dropout)          (None, 2, 2, 64)          0         \n",
      "_________________________________________________________________\n",
      "flatten_1 (Flatten)          (None, 256)               0         \n",
      "_________________________________________________________________\n",
      "dense_1 (Dense)              (None, 512)               131584    \n",
      "_________________________________________________________________\n",
      "dropout_4 (Dropout)          (None, 512)               0         \n",
      "_________________________________________________________________\n",
      "dense_2 (Dense)              (None, 10)                5130      \n",
      "_________________________________________________________________\n",
      "activation_1 (Activation)    (None, 10)                0         \n",
      "=================================================================\n",
      "Total params: 208,794\n",
      "Trainable params: 208,794\n",
      "Non-trainable params: 0\n",
      "_________________________________________________________________\n"
     ]
    }
   ],
   "source": [
    "model.summary()"
   ]
  },
  {
   "cell_type": "code",
   "execution_count": 15,
   "metadata": {
    "colab": {},
    "colab_type": "code",
    "id": "ncMrmeo1SjZs"
   },
   "outputs": [],
   "source": [
    "(X_train, y_train), (X_test, y_test) = cifar10.load_data()"
   ]
  },
  {
   "cell_type": "markdown",
   "metadata": {
    "colab_type": "text",
    "id": "n3aZwtWnmBKz"
   },
   "source": [
    "DATA GENERATION"
   ]
  },
  {
   "cell_type": "code",
   "execution_count": 16,
   "metadata": {
    "colab": {},
    "colab_type": "code",
    "id": "m6JyDbl3mFYZ"
   },
   "outputs": [
    {
     "name": "stdout",
     "output_type": "stream",
     "text": [
      "Augmenting training set images...\n"
     ]
    }
   ],
   "source": [
    "# augumenting\n",
    "print(\"Augmenting training set images...\")\n",
    "#datagen = ImageDataGenerator(rotation_range=40,width_shift_range=0.2,height_shift_range=0.2,zoom_range=0.2,horizontal_flip=True,fill_mode='nearest',validation_split=0.2) "
   ]
  },
  {
   "cell_type": "code",
   "execution_count": 17,
   "metadata": {},
   "outputs": [],
   "source": [
    "datagen = ImageDataGenerator(featurewise_center=True,featurewise_std_normalization=True,rotation_range=20,width_shift_range=0.2,\n",
    "    height_shift_range=0.2,horizontal_flip=True)"
   ]
  },
  {
   "cell_type": "code",
   "execution_count": 18,
   "metadata": {},
   "outputs": [],
   "source": [
    "def data_augmentation(X,Y,rows,cols,chan,classes,NUM_TO_AUGMENT):\n",
    "      xtas, ytas =[],[]\n",
    "      for i in range(X.shape[0]):\n",
    "                num_aug = 0\n",
    "                x = X[i] # (32, 32,3)\n",
    "                y = Y[i]\n",
    "                x = x.reshape((1,) + x.shape) # (1,32, 32,3)\n",
    "                for x_aug,y_aug in datagen.flow(x, y,batch_size=1,save_to_dir='', save_prefix='traincifar', save_format='jpeg'):\n",
    "                                            if num_aug < NUM_TO_AUGMENT:\n",
    "                                                    xx_aug=np.asarray(x_aug).reshape(rows,cols,chan)\n",
    "                                                    yy_aug=np.asarray(y_aug) \n",
    "                                                    xtas.append(xx_aug)\n",
    "                                                    ytas.append(yy_aug)\n",
    "                                                    num_aug+=1\n",
    "                                            else:\n",
    "                                                 break\n",
    "      xtas=np.asarray(xtas)\n",
    "      ytas=np.asarray(ytas)\n",
    "      return xtas,ytas"
   ]
  },
  {
   "cell_type": "code",
   "execution_count": 19,
   "metadata": {},
   "outputs": [],
   "source": [
    "#X_train,y_train=data_augmentation(X_tnag,y_tnag,32,32,3,nb_classes,4)"
   ]
  },
  {
   "cell_type": "code",
   "execution_count": 20,
   "metadata": {},
   "outputs": [],
   "source": [
    "#[[X_train.shape,y_train.shape],[X_tnag.shape,y_tnag.shape]]\n"
   ]
  },
  {
   "cell_type": "code",
   "execution_count": 21,
   "metadata": {
    "colab": {},
    "colab_type": "code",
    "id": "2PXGyGbFaCda"
   },
   "outputs": [],
   "source": [
    "# convert class vectors to binary class matrices\n",
    "#Y_train = np_utils.to_categorical(y_train, nb_classes)\n",
    "Y_test = np_utils.to_categorical(y_test, nb_classes)\n"
   ]
  },
  {
   "cell_type": "code",
   "execution_count": 22,
   "metadata": {
    "colab": {},
    "colab_type": "code",
    "id": "dxPumYKmf3vm"
   },
   "outputs": [],
   "source": [
    "#from sklearn.model_selection import train_test_split\n",
    "# Splitting train and validation "
   ]
  },
  {
   "cell_type": "code",
   "execution_count": 23,
   "metadata": {
    "colab": {},
    "colab_type": "code",
    "id": "dMfv85z9gi-u"
   },
   "outputs": [],
   "source": [
    "# X_train, X_val, y_train, y_val = train_test_split(X_nag, y_nag, test_size=0.2, random_state=42)"
   ]
  },
  {
   "cell_type": "code",
   "execution_count": 24,
   "metadata": {
    "colab": {},
    "colab_type": "code",
    "id": "7FvbnhqQjWX1"
   },
   "outputs": [],
   "source": [
    "X_train = X_train.astype('float32')\n",
    "##X_val =X_val.astype('float32')\n",
    "X_test = X_test.astype('float32')\n",
    "X_train /= 255\n",
    "#X_val /=255\n",
    "X_test /= 255"
   ]
  },
  {
   "cell_type": "code",
   "execution_count": 25,
   "metadata": {
    "colab": {},
    "colab_type": "code",
    "id": "tyr7NFNCiZX8"
   },
   "outputs": [],
   "source": [
    "# convert class vectors to binary class matrices\n",
    "Y_train = np_utils.to_categorical(y_train, nb_classes)\n",
    "#Y_val= np_utils.to_categorical(y_val, nb_classes)"
   ]
  },
  {
   "cell_type": "markdown",
   "metadata": {
    "colab_type": "text",
    "id": "AXT1DFwFdfu4"
   },
   "source": [
    "TRAINING"
   ]
  },
  {
   "cell_type": "code",
   "execution_count": 26,
   "metadata": {
    "colab": {},
    "colab_type": "code",
    "id": "s52-MXkadeY1"
   },
   "outputs": [],
   "source": [
    "epochs=58\n",
    "BATCH_SIZE = 32"
   ]
  },
  {
   "cell_type": "code",
   "execution_count": 27,
   "metadata": {
    "colab": {},
    "colab_type": "code",
    "id": "3v1h2bDloBCx"
   },
   "outputs": [],
   "source": [
    "# simple early stopping\n",
    "es = EarlyStopping(monitor='val_loss', mode='min', verbose=1)\n",
    "\n"
   ]
  },
  {
   "cell_type": "code",
   "execution_count": 28,
   "metadata": {},
   "outputs": [
    {
     "name": "stderr",
     "output_type": "stream",
     "text": [
      "W0528 17:15:05.381252 140482065770304 deprecation.py:323] From /opt/conda/envs/Python36/lib/python3.6/site-packages/tensorflow_core/python/ops/math_grad.py:1424: where (from tensorflow.python.ops.array_ops) is deprecated and will be removed in a future version.\n",
      "Instructions for updating:\n",
      "Use tf.where in 2.0, which has the same broadcast rule as np.where\n",
      "W0528 17:15:05.653284 140482065770304 module_wrapper.py:139] From /opt/conda/envs/Python36/lib/python3.6/site-packages/keras/backend/tensorflow_backend.py:986: The name tf.assign_add is deprecated. Please use tf.compat.v1.assign_add instead.\n",
      "\n",
      "W0528 17:15:05.904479 140482065770304 module_wrapper.py:139] From /opt/conda/envs/Python36/lib/python3.6/site-packages/keras/backend/tensorflow_backend.py:973: The name tf.assign is deprecated. Please use tf.compat.v1.assign instead.\n",
      "\n",
      "W0528 17:15:06.175867 140482065770304 module_wrapper.py:139] From /opt/conda/envs/Python36/lib/python3.6/site-packages/keras/backend/tensorflow_backend.py:2741: The name tf.Session is deprecated. Please use tf.compat.v1.Session instead.\n",
      "\n",
      "W0528 17:15:06.185103 140482065770304 module_wrapper.py:139] From /opt/conda/envs/Python36/lib/python3.6/site-packages/keras/backend/tensorflow_backend.py:174: The name tf.get_default_session is deprecated. Please use tf.compat.v1.get_default_session instead.\n",
      "\n",
      "W0528 17:15:06.186146 140482065770304 module_wrapper.py:139] From /opt/conda/envs/Python36/lib/python3.6/site-packages/keras/backend/tensorflow_backend.py:181: The name tf.ConfigProto is deprecated. Please use tf.compat.v1.ConfigProto instead.\n",
      "\n",
      "W0528 17:15:06.213417 140482065770304 module_wrapper.py:139] From /opt/conda/envs/Python36/lib/python3.6/site-packages/keras/backend/tensorflow_backend.py:190: The name tf.global_variables is deprecated. Please use tf.compat.v1.global_variables instead.\n",
      "\n",
      "W0528 17:15:06.214766 140482065770304 module_wrapper.py:139] From /opt/conda/envs/Python36/lib/python3.6/site-packages/keras/backend/tensorflow_backend.py:199: The name tf.is_variable_initialized is deprecated. Please use tf.compat.v1.is_variable_initialized instead.\n",
      "\n"
     ]
    },
    {
     "name": "stdout",
     "output_type": "stream",
     "text": [
      "Train on 40000 samples, validate on 10000 samples\n",
      "Epoch 1/58\n"
     ]
    },
    {
     "name": "stderr",
     "output_type": "stream",
     "text": [
      "W0528 17:15:06.435301 140482065770304 module_wrapper.py:139] From /opt/conda/envs/Python36/lib/python3.6/site-packages/keras/backend/tensorflow_backend.py:206: The name tf.variables_initializer is deprecated. Please use tf.compat.v1.variables_initializer instead.\n",
      "\n"
     ]
    },
    {
     "name": "stdout",
     "output_type": "stream",
     "text": [
      "40000/40000 [==============================] - 154s 4ms/step - loss: 1.7829 - acc: 0.3292 - val_loss: 1.5030 - val_acc: 0.4453\n",
      "Epoch 2/58\n",
      "40000/40000 [==============================] - 151s 4ms/step - loss: 1.4498 - acc: 0.4684 - val_loss: 1.2987 - val_acc: 0.5311\n",
      "Epoch 3/58\n",
      "40000/40000 [==============================] - 153s 4ms/step - loss: 1.3101 - acc: 0.5275 - val_loss: 1.1604 - val_acc: 0.5770\n",
      "Epoch 4/58\n",
      "40000/40000 [==============================] - 151s 4ms/step - loss: 1.2085 - acc: 0.5658 - val_loss: 1.0930 - val_acc: 0.6076\n",
      "Epoch 5/58\n",
      "40000/40000 [==============================] - 152s 4ms/step - loss: 1.1254 - acc: 0.5984 - val_loss: 1.0401 - val_acc: 0.6251\n",
      "Epoch 6/58\n",
      "40000/40000 [==============================] - 152s 4ms/step - loss: 1.0663 - acc: 0.6230 - val_loss: 0.9538 - val_acc: 0.6604\n",
      "Epoch 7/58\n",
      "40000/40000 [==============================] - 155s 4ms/step - loss: 1.0177 - acc: 0.6413 - val_loss: 0.9223 - val_acc: 0.6761\n",
      "Epoch 8/58\n",
      "40000/40000 [==============================] - 155s 4ms/step - loss: 0.9774 - acc: 0.6550 - val_loss: 0.8695 - val_acc: 0.6914\n",
      "Epoch 9/58\n",
      "40000/40000 [==============================] - 152s 4ms/step - loss: 0.9454 - acc: 0.6638 - val_loss: 0.8830 - val_acc: 0.6894\n",
      "Epoch 10/58\n",
      "40000/40000 [==============================] - 153s 4ms/step - loss: 0.9213 - acc: 0.6770 - val_loss: 0.8519 - val_acc: 0.7013\n",
      "Epoch 11/58\n",
      "40000/40000 [==============================] - 151s 4ms/step - loss: 0.8906 - acc: 0.6861 - val_loss: 0.8024 - val_acc: 0.7220\n",
      "Epoch 12/58\n",
      "40000/40000 [==============================] - 154s 4ms/step - loss: 0.8672 - acc: 0.6948 - val_loss: 0.7969 - val_acc: 0.7194\n",
      "Epoch 13/58\n",
      "40000/40000 [==============================] - 154s 4ms/step - loss: 0.8392 - acc: 0.7035 - val_loss: 0.7483 - val_acc: 0.7408\n",
      "Epoch 14/58\n",
      "40000/40000 [==============================] - 154s 4ms/step - loss: 0.8267 - acc: 0.7095 - val_loss: 0.7976 - val_acc: 0.7230\n",
      "Epoch 15/58\n",
      "40000/40000 [==============================] - 152s 4ms/step - loss: 0.8030 - acc: 0.7182 - val_loss: 0.7725 - val_acc: 0.7311\n",
      "Epoch 16/58\n",
      "40000/40000 [==============================] - 152s 4ms/step - loss: 0.7861 - acc: 0.7242 - val_loss: 0.7422 - val_acc: 0.7379\n",
      "Epoch 17/58\n",
      "40000/40000 [==============================] - 153s 4ms/step - loss: 0.7760 - acc: 0.7286 - val_loss: 0.7259 - val_acc: 0.7437\n",
      "Epoch 18/58\n",
      "40000/40000 [==============================] - 153s 4ms/step - loss: 0.7657 - acc: 0.7318 - val_loss: 0.7360 - val_acc: 0.7401\n",
      "Epoch 19/58\n",
      "40000/40000 [==============================] - 141s 4ms/step - loss: 0.7425 - acc: 0.7396 - val_loss: 0.6848 - val_acc: 0.7605\n",
      "Epoch 20/58\n",
      "40000/40000 [==============================] - 139s 3ms/step - loss: 0.7369 - acc: 0.7447 - val_loss: 0.6805 - val_acc: 0.7613\n",
      "Epoch 21/58\n",
      "40000/40000 [==============================] - 140s 4ms/step - loss: 0.7253 - acc: 0.7445 - val_loss: 0.6747 - val_acc: 0.7649\n",
      "Epoch 22/58\n",
      "40000/40000 [==============================] - 140s 4ms/step - loss: 0.7138 - acc: 0.7495 - val_loss: 0.6677 - val_acc: 0.7680\n",
      "Epoch 23/58\n",
      "40000/40000 [==============================] - 137s 3ms/step - loss: 0.7062 - acc: 0.7523 - val_loss: 0.6625 - val_acc: 0.7682\n",
      "Epoch 24/58\n",
      "40000/40000 [==============================] - 135s 3ms/step - loss: 0.6966 - acc: 0.7554 - val_loss: 0.6611 - val_acc: 0.7691\n",
      "Epoch 25/58\n",
      "40000/40000 [==============================] - 133s 3ms/step - loss: 0.6872 - acc: 0.7577 - val_loss: 0.6533 - val_acc: 0.7709\n",
      "Epoch 26/58\n",
      "40000/40000 [==============================] - 132s 3ms/step - loss: 0.6776 - acc: 0.7617 - val_loss: 0.6584 - val_acc: 0.7668\n",
      "Epoch 27/58\n",
      "40000/40000 [==============================] - 137s 3ms/step - loss: 0.6690 - acc: 0.7656 - val_loss: 0.6355 - val_acc: 0.7804\n",
      "Epoch 28/58\n",
      "40000/40000 [==============================] - 133s 3ms/step - loss: 0.6612 - acc: 0.7675 - val_loss: 0.6603 - val_acc: 0.7671\n",
      "Epoch 29/58\n",
      "40000/40000 [==============================] - 135s 3ms/step - loss: 0.6543 - acc: 0.7692 - val_loss: 0.6314 - val_acc: 0.7850\n",
      "Epoch 30/58\n",
      "40000/40000 [==============================] - 149s 4ms/step - loss: 0.6512 - acc: 0.7728 - val_loss: 0.6677 - val_acc: 0.7697\n",
      "Epoch 31/58\n",
      "40000/40000 [==============================] - 151s 4ms/step - loss: 0.6458 - acc: 0.7733 - val_loss: 0.6327 - val_acc: 0.7796\n",
      "Epoch 32/58\n",
      "40000/40000 [==============================] - 135s 3ms/step - loss: 0.6423 - acc: 0.7771 - val_loss: 0.6249 - val_acc: 0.7842\n",
      "Epoch 33/58\n",
      "40000/40000 [==============================] - 128s 3ms/step - loss: 0.6319 - acc: 0.7792 - val_loss: 0.6223 - val_acc: 0.7829\n",
      "Epoch 34/58\n",
      "40000/40000 [==============================] - 135s 3ms/step - loss: 0.6276 - acc: 0.7801 - val_loss: 0.6232 - val_acc: 0.7848\n",
      "Epoch 35/58\n",
      "40000/40000 [==============================] - 132s 3ms/step - loss: 0.6220 - acc: 0.7825 - val_loss: 0.6043 - val_acc: 0.7888\n",
      "Epoch 36/58\n",
      "40000/40000 [==============================] - 128s 3ms/step - loss: 0.6203 - acc: 0.7837 - val_loss: 0.5968 - val_acc: 0.7948\n",
      "Epoch 37/58\n",
      "40000/40000 [==============================] - 132s 3ms/step - loss: 0.6121 - acc: 0.7834 - val_loss: 0.6426 - val_acc: 0.7760\n",
      "Epoch 38/58\n",
      "40000/40000 [==============================] - 147s 4ms/step - loss: 0.6022 - acc: 0.7873 - val_loss: 0.6266 - val_acc: 0.7864\n",
      "Epoch 39/58\n",
      "40000/40000 [==============================] - 152s 4ms/step - loss: 0.6027 - acc: 0.7880 - val_loss: 0.6250 - val_acc: 0.7828\n",
      "Epoch 40/58\n",
      "40000/40000 [==============================] - 154s 4ms/step - loss: 0.5978 - acc: 0.7891 - val_loss: 0.6224 - val_acc: 0.7867\n",
      "Epoch 41/58\n",
      "40000/40000 [==============================] - 155s 4ms/step - loss: 0.6063 - acc: 0.7894 - val_loss: 0.6113 - val_acc: 0.7885\n",
      "Epoch 42/58\n",
      "40000/40000 [==============================] - 156s 4ms/step - loss: 0.5947 - acc: 0.7893 - val_loss: 0.6022 - val_acc: 0.7906\n",
      "Epoch 43/58\n",
      "40000/40000 [==============================] - 153s 4ms/step - loss: 0.5843 - acc: 0.7935 - val_loss: 0.6286 - val_acc: 0.7847\n",
      "Epoch 44/58\n",
      "40000/40000 [==============================] - 147s 4ms/step - loss: 0.5856 - acc: 0.7940 - val_loss: 0.6178 - val_acc: 0.7850\n",
      "Epoch 45/58\n",
      "40000/40000 [==============================] - 132s 3ms/step - loss: 0.5802 - acc: 0.7952 - val_loss: 0.6112 - val_acc: 0.7879acc: 0 - ETA: 1s - loss: 0.5803 - \n",
      "Epoch 46/58\n",
      "40000/40000 [==============================] - 152s 4ms/step - loss: 0.5786 - acc: 0.7940 - val_loss: 0.6077 - val_acc: 0.7949\n",
      "Epoch 47/58\n",
      "40000/40000 [==============================] - 153s 4ms/step - loss: 0.5761 - acc: 0.7967 - val_loss: 0.6053 - val_acc: 0.7925\n",
      "Epoch 48/58\n",
      "40000/40000 [==============================] - 153s 4ms/step - loss: 0.5802 - acc: 0.7956 - val_loss: 0.5949 - val_acc: 0.7967\n",
      "Epoch 49/58\n",
      "40000/40000 [==============================] - 152s 4ms/step - loss: 0.5688 - acc: 0.7997 - val_loss: 0.6075 - val_acc: 0.7890\n",
      "Epoch 50/58\n",
      "40000/40000 [==============================] - 153s 4ms/step - loss: 0.5626 - acc: 0.8032 - val_loss: 0.6084 - val_acc: 0.7955\n",
      "Epoch 51/58\n",
      "40000/40000 [==============================] - 155s 4ms/step - loss: 0.5690 - acc: 0.8020 - val_loss: 0.6011 - val_acc: 0.7956\n",
      "Epoch 52/58\n",
      "40000/40000 [==============================] - 153s 4ms/step - loss: 0.5707 - acc: 0.7975 - val_loss: 0.6209 - val_acc: 0.7887\n",
      "Epoch 53/58\n",
      "40000/40000 [==============================] - 152s 4ms/step - loss: 0.5626 - acc: 0.8012 - val_loss: 0.5990 - val_acc: 0.7979\n",
      "Epoch 54/58\n",
      "40000/40000 [==============================] - 151s 4ms/step - loss: 0.5587 - acc: 0.8021 - val_loss: 0.5972 - val_acc: 0.7993\n",
      "Epoch 55/58\n",
      "40000/40000 [==============================] - 152s 4ms/step - loss: 0.5602 - acc: 0.8024 - val_loss: 0.5912 - val_acc: 0.7979\n",
      "Epoch 56/58\n",
      "40000/40000 [==============================] - 153s 4ms/step - loss: 0.5583 - acc: 0.8034 - val_loss: 0.5868 - val_acc: 0.7999\n",
      "Epoch 57/58\n",
      "40000/40000 [==============================] - 153s 4ms/step - loss: 0.5502 - acc: 0.8068 - val_loss: 0.5809 - val_acc: 0.8068\n",
      "Epoch 58/58\n",
      "40000/40000 [==============================] - 154s 4ms/step - loss: 0.5552 - acc: 0.8055 - val_loss: 0.5899 - val_acc: 0.7973\n"
     ]
    }
   ],
   "source": [
    "history=model.fit(X_train,Y_train, batch_size=BATCH_SIZE, epochs=epochs, validation_split=0.2, verbose=1)"
   ]
  },
  {
   "cell_type": "code",
   "execution_count": 29,
   "metadata": {},
   "outputs": [
    {
     "name": "stdout",
     "output_type": "stream",
     "text": [
      "10000/10000 [==============================] - 9s 930us/step\n",
      "Test score: 61.25878915309906\n",
      "Test accuracy: 79.06\n"
     ]
    }
   ],
   "source": [
    "score = model.evaluate(X_test, Y_test, verbose=1)\n",
    "print('Test score:', score[0]*100)\n",
    "print('Test accuracy:', score[1]*100)"
   ]
  },
  {
   "cell_type": "code",
   "execution_count": null,
   "metadata": {},
   "outputs": [],
   "source": [
    "ppp"
   ]
  },
  {
   "cell_type": "code",
   "execution_count": 34,
   "metadata": {},
   "outputs": [
    {
     "name": "stdout",
     "output_type": "stream",
     "text": [
      "Train on 40000 samples, validate on 10000 samples\n",
      "Epoch 1/5\n",
      "40000/40000 [==============================] - 154s 4ms/step - loss: 0.5435 - acc: 0.8095 - val_loss: 0.5925 - val_acc: 0.7988\n",
      "Epoch 2/5\n",
      "40000/40000 [==============================] - 154s 4ms/step - loss: 0.5511 - acc: 0.8062 - val_loss: 0.6233 - val_acc: 0.7885\n",
      "Epoch 3/5\n",
      "40000/40000 [==============================] - 155s 4ms/step - loss: 0.5418 - acc: 0.8073 - val_loss: 0.5896 - val_acc: 0.8006\n",
      "Epoch 4/5\n",
      "40000/40000 [==============================] - 155s 4ms/step - loss: 0.5466 - acc: 0.8067 - val_loss: 0.6051 - val_acc: 0.7985\n",
      "Epoch 5/5\n",
      "40000/40000 [==============================] - 157s 4ms/step - loss: 0.5445 - acc: 0.8070 - val_loss: 0.5953 - val_acc: 0.7986\n"
     ]
    }
   ],
   "source": [
    "history=model.fit(X_train,Y_train, batch_size=BATCH_SIZE, epochs=5, validation_split=0.2, verbose=1)"
   ]
  },
  {
   "cell_type": "code",
   "execution_count": 35,
   "metadata": {},
   "outputs": [
    {
     "name": "stdout",
     "output_type": "stream",
     "text": [
      "10000/10000 [==============================] - 9s 915us/step\n",
      "Test score: 61.89903509616852\n",
      "Test accuracy: 78.62\n"
     ]
    }
   ],
   "source": [
    "score = model.evaluate(X_test, Y_test, verbose=1)\n",
    "print('Test score:', score[0]*100)\n",
    "print('Test accuracy:', score[1]*100)"
   ]
  },
  {
   "cell_type": "code",
   "execution_count": 36,
   "metadata": {},
   "outputs": [
    {
     "name": "stdout",
     "output_type": "stream",
     "text": [
      "Train on 40000 samples, validate on 10000 samples\n",
      "Epoch 1/5\n",
      "40000/40000 [==============================] - 153s 4ms/step - loss: 0.5427 - acc: 0.8094 - val_loss: 0.5953 - val_acc: 0.7982\n",
      "Epoch 2/5\n",
      "40000/40000 [==============================] - 152s 4ms/step - loss: 0.5386 - acc: 0.8085 - val_loss: 0.6034 - val_acc: 0.7936\n",
      "Epoch 3/5\n",
      "40000/40000 [==============================] - 154s 4ms/step - loss: 0.5360 - acc: 0.8108 - val_loss: 0.6073 - val_acc: 0.7916\n",
      "Epoch 4/5\n",
      "40000/40000 [==============================] - 156s 4ms/step - loss: 0.5413 - acc: 0.8089 - val_loss: 0.6008 - val_acc: 0.7959\n",
      "Epoch 5/5\n",
      "40000/40000 [==============================] - 152s 4ms/step - loss: 0.5303 - acc: 0.8118 - val_loss: 0.5912 - val_acc: 0.7966\n"
     ]
    }
   ],
   "source": [
    "history=model.fit(X_train,Y_train, batch_size=BATCH_SIZE, epochs=5, validation_split=0.2, verbose=1)"
   ]
  },
  {
   "cell_type": "code",
   "execution_count": 37,
   "metadata": {},
   "outputs": [
    {
     "name": "stdout",
     "output_type": "stream",
     "text": [
      "10000/10000 [==============================] - 10s 952us/step\n",
      "Test score: 61.702495818138125\n",
      "Test accuracy: 78.94\n"
     ]
    }
   ],
   "source": [
    "score = model.evaluate(X_test, Y_test, verbose=1)\n",
    "print('Test score:', score[0]*100)\n",
    "print('Test accuracy:', score[1]*100)"
   ]
  },
  {
   "cell_type": "code",
   "execution_count": null,
   "metadata": {
    "scrolled": true
   },
   "outputs": [
    {
     "name": "stdout",
     "output_type": "stream",
     "text": [
      "Train on 40000 samples, validate on 10000 samples\n",
      "Epoch 1/5\n",
      "40000/40000 [==============================] - 155s 4ms/step - loss: 0.5309 - acc: 0.8115 - val_loss: 0.5948 - val_acc: 0.8044\n",
      "Epoch 2/5\n",
      "40000/40000 [==============================] - 152s 4ms/step - loss: 0.5303 - acc: 0.8158 - val_loss: 0.5888 - val_acc: 0.8010\n",
      "Epoch 3/5\n",
      "21504/40000 [===============>..............] - ETA: 1:06 - loss: 0.5204 - acc: 0.8157"
     ]
    }
   ],
   "source": [
    "history=model.fit(X_train,Y_train, batch_size=BATCH_SIZE, epochs=5, validation_split=0.2, verbose=1)"
   ]
  },
  {
   "cell_type": "code",
   "execution_count": null,
   "metadata": {
    "scrolled": true
   },
   "outputs": [],
   "source": [
    "history=model.fit(X_train,Y_train, batch_size=BATCH_SIZE, epochs=1, validation_split=0.2, verbose=1)"
   ]
  },
  {
   "cell_type": "code",
   "execution_count": null,
   "metadata": {},
   "outputs": [],
   "source": [
    "history=model.fit(X_train,Y_train, batch_size=BATCH_SIZE, epochs=1, validation_split=0.2, verbose=1)"
   ]
  },
  {
   "cell_type": "code",
   "execution_count": null,
   "metadata": {},
   "outputs": [],
   "source": [
    "score = model.evaluate(X_test, Y_test, verbose=1)\n",
    "print('Test score:', score[0]*100)\n",
    "print('Test accuracy:', score[1]*100)"
   ]
  },
  {
   "cell_type": "code",
   "execution_count": null,
   "metadata": {},
   "outputs": [],
   "source": [
    "pp"
   ]
  },
  {
   "cell_type": "code",
   "execution_count": null,
   "metadata": {
    "colab": {},
    "colab_type": "code",
    "id": "D5u3yAOiNdDC"
   },
   "outputs": [],
   "source": [
    "datagen.fit(X_train)"
   ]
  },
  {
   "cell_type": "code",
   "execution_count": null,
   "metadata": {
    "colab": {},
    "colab_type": "code",
    "id": "PYamiP42GKtk",
    "scrolled": true
   },
   "outputs": [],
   "source": [
    "history = model.fit_generator(datagen.flow(X_train, Y_train,batch_size=BATCH_SIZE), samples_per_epoch=X_train.shape[0],callbacks=[],epochs=epochs,verbose=1)"
   ]
  },
  {
   "cell_type": "code",
   "execution_count": null,
   "metadata": {
    "colab": {},
    "colab_type": "code",
    "id": "4DzYY7VOfV-j"
   },
   "outputs": [],
   "source": [
    "score = model.evaluate(X_test, Y_test, verbose=1)\n",
    "print('Test score:', score[0]*100)\n",
    "print('Test accuracy:', score[1]*100)"
   ]
  },
  {
   "cell_type": "code",
   "execution_count": null,
   "metadata": {},
   "outputs": [],
   "source": [
    "history = model.fit_generator(datagen.flow(X_train, Y_train,batch_size=BATCH_SIZE), samples_per_epoch=X_train.shape[0],callbacks=[],epochs=epochs,verbose=1)"
   ]
  },
  {
   "cell_type": "code",
   "execution_count": null,
   "metadata": {
    "colab": {},
    "colab_type": "code",
    "id": "4DzYY7VOfV-j"
   },
   "outputs": [],
   "source": [
    "score = model.evaluate(X_test, Y_test, verbose=1)\n",
    "print('Test score:', score[0]*100)\n",
    "print('Test accuracy:', score[1]*100)"
   ]
  },
  {
   "cell_type": "code",
   "execution_count": null,
   "metadata": {},
   "outputs": [],
   "source": []
  },
  {
   "cell_type": "code",
   "execution_count": 30,
   "metadata": {
    "colab": {},
    "colab_type": "code",
    "id": "OYqWxRNUes9o"
   },
   "outputs": [
    {
     "name": "stdout",
     "output_type": "stream",
     "text": [
      "dict_keys(['val_loss', 'val_acc', 'loss', 'acc'])\n"
     ]
    }
   ],
   "source": [
    "# list all data in history\n",
    "print(history.history.keys())"
   ]
  },
  {
   "cell_type": "code",
   "execution_count": 32,
   "metadata": {
    "colab": {},
    "colab_type": "code",
    "id": "C3i-y0mQe7RQ"
   },
   "outputs": [
    {
     "data": {
      "image/png": "[encoded data removed]",
      "text/plain": [
       "<Figure size 432x288 with 1 Axes>"
      ]
     },
     "metadata": {
      "needs_background": "light"
     },
     "output_type": "display_data"
    }
   ],
   "source": [
    "# summarize history for accuracy\n",
    "plt.plot(history.history['acc'])\n",
    "plt.plot(history.history['val_acc'])\n",
    "plt.title('model accuracy')\n",
    "plt.ylabel('accuracy')\n",
    "plt.xlabel('epoch')\n",
    "plt.legend(['train', 'test'], loc='lower right')\n",
    "plt.grid(True)\n",
    "plt.show()"
   ]
  },
  {
   "cell_type": "code",
   "execution_count": 33,
   "metadata": {
    "colab": {},
    "colab_type": "code",
    "id": "FCh3F6yifAOq"
   },
   "outputs": [
    {
     "data": {
      "image/png": "[encoded data removed]",
      "text/plain": [
       "<Figure size 432x288 with 1 Axes>"
      ]
     },
     "metadata": {
      "needs_background": "light"
     },
     "output_type": "display_data"
    }
   ],
   "source": [
    "# summarize history for loss\n",
    "plt.plot(history.history['loss'])\n",
    "plt.plot(history.history['val_loss'])\n",
    "plt.title('model loss History')\n",
    "plt.ylabel('loss')\n",
    "plt.xlabel('epoch')\n",
    "plt.legend(['train', 'test'], loc='upper right')\n",
    "plt.show()"
   ]
  },
  {
   "cell_type": "markdown",
   "metadata": {
    "colab_type": "text",
    "id": "oK6lChj92oAT"
   },
   "source": [
    "MODEL EVALUATION"
   ]
  },
  {
   "cell_type": "code",
   "execution_count": null,
   "metadata": {
    "colab": {},
    "colab_type": "code",
    "id": "4DzYY7VOfV-j"
   },
   "outputs": [],
   "source": [
    "score = model.evaluate(X_test, Y_test, verbose=1)\n",
    "print('Test score:', score[0]*100)\n",
    "print('Test accuracy:', score[1]*100)"
   ]
  },
  {
   "cell_type": "markdown",
   "metadata": {
    "colab_type": "text",
    "id": "5IeN9pf72_ZS"
   },
   "source": [
    "MODEL PREDICTION"
   ]
  },
  {
   "cell_type": "code",
   "execution_count": null,
   "metadata": {
    "colab": {},
    "colab_type": "code",
    "id": "gYo_LzqN3CHA"
   },
   "outputs": [],
   "source": [
    "predictions = model.predict(X_test)\n",
    "predicted_labels=model.predict_classes(X_test)\n",
    "#print([predictions[0],predicted_labels[0]])\n",
    "\n",
    "\n",
    "#max= np.argmax(predictions[0])\n",
    "#print(max)\n",
    "\n",
    "#tt=y_test[0]\n",
    "#print(tt)\n",
    "\n",
    "# Plot the first 25 test images, their predicted label, and the true label\n",
    "# Color correct predictions in green, incorrect predictions in red\n",
    "plt.figure(figsize=(10,10))\n",
    "for i in range(25):\n",
    "    plt.subplot(5,5,i+1)\n",
    "    plt.xticks([])\n",
    "    plt.yticks([])\n",
    "    plt.grid('False')\n",
    "    plt.imshow(X_test[i], cmap=plt.cm.binary)\n",
    "    #plt.imshow(X_test[i], interpolation='nearest')\n",
    "    predicted_label = np.argmax(predictions[i])\n",
    "    true_label = y_test[i][0]\n",
    "    if predicted_label == true_label:\n",
    "      color = 'green'\n",
    "    else:\n",
    "      color = 'red'\n",
    "    plt.xlabel(\"{} ({})\".format(class_names[predicted_label], \n",
    "                                  class_names[true_label]),\n",
    "                                  color=color)\n",
    "plt.show()\n",
    "plt.savefig(\"cifar10-lenet.pdf\")"
   ]
  },
  {
   "cell_type": "code",
   "execution_count": null,
   "metadata": {
    "colab": {},
    "colab_type": "code",
    "id": "pHfYEjRvt3Qn"
   },
   "outputs": [],
   "source": [
    "print('Finish')"
   ]
  },
  {
   "cell_type": "markdown",
   "metadata": {
    "colab_type": "text",
    "id": "9jr_3j7bvoN2"
   },
   "source": [
    "from PIL import Image\n",
    "import numpy as np\n",
    "\n",
    "w, h = 512, 512\n",
    "data = np.zeros((h, w, 3), dtype=np.uint8)\n",
    "data[0:256, 0:256] = [255, 0, 0] # red patch in upper left\n",
    "img = Image.fromarray(data, 'RGB')\n",
    "img.save('my.png')\n",
    "img.show()\n",
    "\n",
    "from scipy.misc import toimage\n",
    "toimage(data).show()"
   ]
  },
  {
   "cell_type": "code",
   "execution_count": null,
   "metadata": {
    "colab": {},
    "colab_type": "code",
    "id": "t9D8kzwDDFlh"
   },
   "outputs": [],
   "source": [
    "#import keras\n",
    "#vgg_model = keras.applications.vgg16.VGG16()\n",
    "#model = keras.Sequential()\n",
    "#model.add(vgg_model.layers[0])"
   ]
  },
  {
   "cell_type": "code",
   "execution_count": null,
   "metadata": {},
   "outputs": [],
   "source": []
  },
  {
   "cell_type": "code",
   "execution_count": null,
   "metadata": {},
   "outputs": [],
   "source": []
  }
 ],
 "metadata": {
  "accelerator": "GPU",
  "colab": {
   "collapsed_sections": [],
   "name": "CONVNET-CIFAR10-TRAINEDMay26.ipynb",
   "private_outputs": true,
   "provenance": []
  },
  "kernelspec": {
   "display_name": "Python 3",
   "language": "python",
   "name": "python3"
  },
  "language_info": {
   "codemirror_mode": {
    "name": "ipython",
    "version": 3
   },
   "file_extension": ".py",
   "mimetype": "text/x-python",
   "name": "python",
   "nbconvert_exporter": "python",
   "pygments_lexer": "ipython3",
   "version": "3.6.5"
  }
 },
 "nbformat": 4,
 "nbformat_minor": 1
}
